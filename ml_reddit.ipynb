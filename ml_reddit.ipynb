{
 "cells": [
  {
   "cell_type": "code",
   "execution_count": 301,
   "metadata": {},
   "outputs": [
    {
     "name": "stderr",
     "output_type": "stream",
     "text": [
      "[nltk_data] Downloading package stopwords to C:\\Users\\Alberto\n",
      "[nltk_data]     Vilas\\AppData\\Roaming\\nltk_data...\n",
      "[nltk_data]   Package stopwords is already up-to-date!\n",
      "[nltk_data] Downloading package wordnet to C:\\Users\\Alberto\n",
      "[nltk_data]     Vilas\\AppData\\Roaming\\nltk_data...\n",
      "[nltk_data]   Package wordnet is already up-to-date!\n"
     ]
    }
   ],
   "source": [
    "import pandas as pd\n",
    "import numpy as np\n",
    "\n",
    "\n",
    "import seaborn as sns\n",
    "import matplotlib.pyplot as plt\n",
    "\n",
    "\n",
    "from nltk.tokenize import RegexpTokenizer\n",
    "from nltk.corpus import stopwords\n",
    "import nltk\n",
    "nltk.download('stopwords')\n",
    "from nltk.stem.wordnet import WordNetLemmatizer\n",
    "import nltk\n",
    "nltk.download('wordnet')\n",
    "from nltk.stem import PorterStemmer\n",
    "\n",
    "\n",
    "from sklearn.model_selection import train_test_split\n",
    "\n",
    "import os\n",
    "from wordcloud import WordCloud\n",
    "from PIL import Image\n",
    "\n",
    "from sklearn.utils import resample\n",
    "\n",
    "\n",
    "from sklearn.feature_extraction.text import TfidfVectorizer\n",
    "from sklearn.naive_bayes import MultinomialNB\n",
    "from sklearn.ensemble import RandomForestClassifier\n",
    "\n",
    "from sklearn.metrics import f1_score\n",
    "from sklearn.metrics import confusion_matrix\n",
    "from sklearn.metrics import accuracy_score\n",
    "from sklearn.metrics import classification_report\n",
    "\n",
    "\n",
    "#https://github.com/briannalytle/reddit_nlp/blob/master/EDA.ipynb\n"
   ]
  },
  {
   "cell_type": "code",
   "execution_count": 302,
   "metadata": {},
   "outputs": [
    {
     "name": "stdout",
     "output_type": "stream",
     "text": [
      "                                               title          time  \\\n",
      "0  Flex fans, how do you feel about the newest ad...  1600189218.0   \n",
      "1  [For Hire] - 3D Characters and Low Poly style ...  1600189218.0   \n",
      "\n",
      "  description num_comments num_upvotes upvote_ratio  link_flair   nsfw  \\\n",
      "0         NaN            0           1          1.0         NaN  False   \n",
      "1         NaN            0           1          1.0  [For Hire]  False   \n",
      "\n",
      "   subreddit_title      redditor  \\\n",
      "0    Ask Reddit...      MANINIMO   \n",
      "1  Art Commissions  LucasSouza01   \n",
      "\n",
      "                                                 url  \n",
      "0  https://www.reddit.com/r/AskReddit/comments/it...  \n",
      "1                https://i.redd.it/6oi0lxvjecn51.jpg  \n"
     ]
    }
   ],
   "source": [
    "df = pd.read_csv(\"reddit_new_submissions.csv\")\n",
    "print(df.head(2))"
   ]
  },
  {
   "cell_type": "code",
   "execution_count": 303,
   "metadata": {},
   "outputs": [
    {
     "name": "stdout",
     "output_type": "stream",
     "text": [
      "<class 'pandas.core.frame.DataFrame'>\n",
      "Int64Index: 9916 entries, 0 to 10100\n",
      "Data columns (total 11 columns):\n",
      " #   Column           Non-Null Count  Dtype \n",
      "---  ------           --------------  ----- \n",
      " 0   title            9916 non-null   object\n",
      " 1   time             9916 non-null   object\n",
      " 2   description      2882 non-null   object\n",
      " 3   num_comments     9916 non-null   object\n",
      " 4   num_upvotes      9916 non-null   object\n",
      " 5   upvote_ratio     9916 non-null   object\n",
      " 6   link_flair       3042 non-null   object\n",
      " 7   nsfw             9916 non-null   object\n",
      " 8   subreddit_title  9508 non-null   object\n",
      " 9   redditor         9916 non-null   object\n",
      " 10  url              9916 non-null   object\n",
      "dtypes: object(11)\n",
      "memory usage: 929.6+ KB\n"
     ]
    }
   ],
   "source": [
    "df.drop_duplicates(subset=['title','subreddit_title'], inplace=True)\n",
    "df.info()"
   ]
  },
  {
   "cell_type": "code",
   "execution_count": 304,
   "metadata": {},
   "outputs": [
    {
     "data": {
      "text/plain": [
       "(9916, 11)"
      ]
     },
     "execution_count": 304,
     "metadata": {},
     "output_type": "execute_result"
    }
   ],
   "source": [
    "df.shape"
   ]
  },
  {
   "cell_type": "markdown",
   "metadata": {},
   "source": [
    "Convert target to binary"
   ]
  },
  {
   "cell_type": "code",
   "execution_count": 305,
   "metadata": {},
   "outputs": [],
   "source": [
    "df['nsfw'] = [1 if n=='True' else 0 for n in df.nsfw]"
   ]
  },
  {
   "cell_type": "code",
   "execution_count": 306,
   "metadata": {},
   "outputs": [
    {
     "data": {
      "text/plain": [
       "0    7338\n",
       "1    2578\n",
       "Name: nsfw, dtype: int64"
      ]
     },
     "execution_count": 306,
     "metadata": {},
     "output_type": "execute_result"
    }
   ],
   "source": [
    "df['nsfw'].value_counts()"
   ]
  },
  {
   "cell_type": "code",
   "execution_count": 307,
   "metadata": {},
   "outputs": [
    {
     "name": "stdout",
     "output_type": "stream",
     "text": [
      "<class 'pandas.core.frame.DataFrame'>\n",
      "Int64Index: 9916 entries, 0 to 10100\n",
      "Data columns (total 11 columns):\n",
      " #   Column           Non-Null Count  Dtype \n",
      "---  ------           --------------  ----- \n",
      " 0   title            9916 non-null   object\n",
      " 1   time             9916 non-null   object\n",
      " 2   description      2882 non-null   object\n",
      " 3   num_comments     9916 non-null   object\n",
      " 4   num_upvotes      9916 non-null   object\n",
      " 5   upvote_ratio     9916 non-null   object\n",
      " 6   link_flair       3042 non-null   object\n",
      " 7   nsfw             9916 non-null   int64 \n",
      " 8   subreddit_title  9508 non-null   object\n",
      " 9   redditor         9916 non-null   object\n",
      " 10  url              9916 non-null   object\n",
      "dtypes: int64(1), object(10)\n",
      "memory usage: 929.6+ KB\n"
     ]
    }
   ],
   "source": [
    "df.info()"
   ]
  },
  {
   "cell_type": "code",
   "execution_count": 308,
   "metadata": {},
   "outputs": [
    {
     "data": {
      "text/plain": [
       "<matplotlib.axes._subplots.AxesSubplot at 0x2c170c528b0>"
      ]
     },
     "execution_count": 308,
     "metadata": {},
     "output_type": "execute_result"
    },
    {
     "data": {
      "image/png": "[encoded data removed]",
      "text/plain": [
       "<Figure size 432x288 with 1 Axes>"
      ]
     },
     "metadata": {
      "needs_background": "light"
     },
     "output_type": "display_data"
    }
   ],
   "source": [
    "sns.countplot(x='nsfw', data=df)"
   ]
  },
  {
   "cell_type": "markdown",
   "metadata": {},
   "source": [
    "Replace NaN with ' ', because it's necessary for df.title + df.description\n",
    "\n",
    "Because tittle + description is a better field \n"
   ]
  },
  {
   "cell_type": "code",
   "execution_count": 309,
   "metadata": {},
   "outputs": [
    {
     "data": {
      "text/html": [
       "<div>\n",
       "<style scoped>\n",
       "    .dataframe tbody tr th:only-of-type {\n",
       "        vertical-align: middle;\n",
       "    }\n",
       "\n",
       "    .dataframe tbody tr th {\n",
       "        vertical-align: top;\n",
       "    }\n",
       "\n",
       "    .dataframe thead th {\n",
       "        text-align: right;\n",
       "    }\n",
       "</style>\n",
       "<table border=\"1\" class=\"dataframe\">\n",
       "  <thead>\n",
       "    <tr style=\"text-align: right;\">\n",
       "      <th></th>\n",
       "      <th>title</th>\n",
       "      <th>time</th>\n",
       "      <th>description</th>\n",
       "      <th>num_comments</th>\n",
       "      <th>num_upvotes</th>\n",
       "      <th>upvote_ratio</th>\n",
       "      <th>link_flair</th>\n",
       "      <th>nsfw</th>\n",
       "      <th>subreddit_title</th>\n",
       "      <th>redditor</th>\n",
       "      <th>url</th>\n",
       "      <th>all_text</th>\n",
       "    </tr>\n",
       "  </thead>\n",
       "  <tbody>\n",
       "    <tr>\n",
       "      <th>0</th>\n",
       "      <td>Flex fans, how do you feel about the newest ad...</td>\n",
       "      <td>1600189218.0</td>\n",
       "      <td></td>\n",
       "      <td>0</td>\n",
       "      <td>1</td>\n",
       "      <td>1.0</td>\n",
       "      <td>NaN</td>\n",
       "      <td>0</td>\n",
       "      <td>Ask Reddit...</td>\n",
       "      <td>MANINIMO</td>\n",
       "      <td>https://www.reddit.com/r/AskReddit/comments/it...</td>\n",
       "      <td>Flex fans, how do you feel about the newest ad...</td>\n",
       "    </tr>\n",
       "    <tr>\n",
       "      <th>1</th>\n",
       "      <td>[For Hire] - 3D Characters and Low Poly style ...</td>\n",
       "      <td>1600189218.0</td>\n",
       "      <td></td>\n",
       "      <td>0</td>\n",
       "      <td>1</td>\n",
       "      <td>1.0</td>\n",
       "      <td>[For Hire]</td>\n",
       "      <td>0</td>\n",
       "      <td>Art Commissions</td>\n",
       "      <td>LucasSouza01</td>\n",
       "      <td>https://i.redd.it/6oi0lxvjecn51.jpg</td>\n",
       "      <td>[For Hire] - 3D Characters and Low Poly style ...</td>\n",
       "    </tr>\n",
       "    <tr>\n",
       "      <th>2</th>\n",
       "      <td>Lily Collins</td>\n",
       "      <td>1600189218.0</td>\n",
       "      <td></td>\n",
       "      <td>0</td>\n",
       "      <td>1</td>\n",
       "      <td>1.0</td>\n",
       "      <td>NaN</td>\n",
       "      <td>0</td>\n",
       "      <td>Elite Celebs</td>\n",
       "      <td>Mn_222</td>\n",
       "      <td>https://i.redd.it/hai4innkecn51.jpg</td>\n",
       "      <td>Lily Collins</td>\n",
       "    </tr>\n",
       "    <tr>\n",
       "      <th>3</th>\n",
       "      <td>The office go brrrr</td>\n",
       "      <td>1600189218.0</td>\n",
       "      <td></td>\n",
       "      <td>0</td>\n",
       "      <td>1</td>\n",
       "      <td>1.0</td>\n",
       "      <td>NaN</td>\n",
       "      <td>0</td>\n",
       "      <td>People Person's Paper People</td>\n",
       "      <td>CapitalistUSSR</td>\n",
       "      <td>https://i.redd.it/am4dzl7lecn51.jpg</td>\n",
       "      <td>The office go brrrr</td>\n",
       "    </tr>\n",
       "    <tr>\n",
       "      <th>4</th>\n",
       "      <td>Am I curvy enough for you? [OC]</td>\n",
       "      <td>1600189218.0</td>\n",
       "      <td></td>\n",
       "      <td>1</td>\n",
       "      <td>1</td>\n",
       "      <td>1.0</td>\n",
       "      <td>Unverified OC</td>\n",
       "      <td>1</td>\n",
       "      <td>/r/curvy: Buxom babes, voluptuous vixens, curv...</td>\n",
       "      <td>ElectraLovexx</td>\n",
       "      <td>https://i.redd.it/rgref9blecn51.jpg</td>\n",
       "      <td>Am I curvy enough for you? [OC]</td>\n",
       "    </tr>\n",
       "  </tbody>\n",
       "</table>\n",
       "</div>"
      ],
      "text/plain": [
       "                                               title          time  \\\n",
       "0  Flex fans, how do you feel about the newest ad...  1600189218.0   \n",
       "1  [For Hire] - 3D Characters and Low Poly style ...  1600189218.0   \n",
       "2                                       Lily Collins  1600189218.0   \n",
       "3                                The office go brrrr  1600189218.0   \n",
       "4                    Am I curvy enough for you? [OC]  1600189218.0   \n",
       "\n",
       "  description num_comments num_upvotes upvote_ratio     link_flair  nsfw  \\\n",
       "0                        0           1          1.0            NaN     0   \n",
       "1                        0           1          1.0     [For Hire]     0   \n",
       "2                        0           1          1.0            NaN     0   \n",
       "3                        0           1          1.0            NaN     0   \n",
       "4                        1           1          1.0  Unverified OC     1   \n",
       "\n",
       "                                     subreddit_title        redditor  \\\n",
       "0                                      Ask Reddit...        MANINIMO   \n",
       "1                                    Art Commissions    LucasSouza01   \n",
       "2                                       Elite Celebs          Mn_222   \n",
       "3                       People Person's Paper People  CapitalistUSSR   \n",
       "4  /r/curvy: Buxom babes, voluptuous vixens, curv...   ElectraLovexx   \n",
       "\n",
       "                                                 url  \\\n",
       "0  https://www.reddit.com/r/AskReddit/comments/it...   \n",
       "1                https://i.redd.it/6oi0lxvjecn51.jpg   \n",
       "2                https://i.redd.it/hai4innkecn51.jpg   \n",
       "3                https://i.redd.it/am4dzl7lecn51.jpg   \n",
       "4                https://i.redd.it/rgref9blecn51.jpg   \n",
       "\n",
       "                                            all_text  \n",
       "0  Flex fans, how do you feel about the newest ad...  \n",
       "1  [For Hire] - 3D Characters and Low Poly style ...  \n",
       "2                                      Lily Collins   \n",
       "3                               The office go brrrr   \n",
       "4                   Am I curvy enough for you? [OC]   "
      ]
     },
     "execution_count": 309,
     "metadata": {},
     "output_type": "execute_result"
    }
   ],
   "source": [
    "df['description']=df['description'].replace(np.nan, \" \")\n",
    "df['all_text'] = df['title'] + df['description']\n",
    "df.head()"
   ]
  },
  {
   "cell_type": "code",
   "execution_count": 310,
   "metadata": {},
   "outputs": [
    {
     "data": {
      "text/html": [
       "<div>\n",
       "<style scoped>\n",
       "    .dataframe tbody tr th:only-of-type {\n",
       "        vertical-align: middle;\n",
       "    }\n",
       "\n",
       "    .dataframe tbody tr th {\n",
       "        vertical-align: top;\n",
       "    }\n",
       "\n",
       "    .dataframe thead tr th {\n",
       "        text-align: left;\n",
       "    }\n",
       "\n",
       "    .dataframe thead tr:last-of-type th {\n",
       "        text-align: right;\n",
       "    }\n",
       "</style>\n",
       "<table border=\"1\" class=\"dataframe\">\n",
       "  <thead>\n",
       "    <tr>\n",
       "      <th></th>\n",
       "      <th colspan=\"4\" halign=\"left\">title</th>\n",
       "      <th colspan=\"4\" halign=\"left\">time</th>\n",
       "      <th colspan=\"2\" halign=\"left\">description</th>\n",
       "      <th>...</th>\n",
       "      <th colspan=\"2\" halign=\"left\">redditor</th>\n",
       "      <th colspan=\"4\" halign=\"left\">url</th>\n",
       "      <th colspan=\"4\" halign=\"left\">all_text</th>\n",
       "    </tr>\n",
       "    <tr>\n",
       "      <th></th>\n",
       "      <th>count</th>\n",
       "      <th>unique</th>\n",
       "      <th>top</th>\n",
       "      <th>freq</th>\n",
       "      <th>count</th>\n",
       "      <th>unique</th>\n",
       "      <th>top</th>\n",
       "      <th>freq</th>\n",
       "      <th>count</th>\n",
       "      <th>unique</th>\n",
       "      <th>...</th>\n",
       "      <th>top</th>\n",
       "      <th>freq</th>\n",
       "      <th>count</th>\n",
       "      <th>unique</th>\n",
       "      <th>top</th>\n",
       "      <th>freq</th>\n",
       "      <th>count</th>\n",
       "      <th>unique</th>\n",
       "      <th>top</th>\n",
       "      <th>freq</th>\n",
       "    </tr>\n",
       "    <tr>\n",
       "      <th>nsfw</th>\n",
       "      <th></th>\n",
       "      <th></th>\n",
       "      <th></th>\n",
       "      <th></th>\n",
       "      <th></th>\n",
       "      <th></th>\n",
       "      <th></th>\n",
       "      <th></th>\n",
       "      <th></th>\n",
       "      <th></th>\n",
       "      <th></th>\n",
       "      <th></th>\n",
       "      <th></th>\n",
       "      <th></th>\n",
       "      <th></th>\n",
       "      <th></th>\n",
       "      <th></th>\n",
       "      <th></th>\n",
       "      <th></th>\n",
       "      <th></th>\n",
       "      <th></th>\n",
       "    </tr>\n",
       "  </thead>\n",
       "  <tbody>\n",
       "    <tr>\n",
       "      <th>0</th>\n",
       "      <td>7338</td>\n",
       "      <td>7134</td>\n",
       "      <td>“Axial Precession”</td>\n",
       "      <td>10</td>\n",
       "      <td>7338</td>\n",
       "      <td>1240</td>\n",
       "      <td>1600303906.0</td>\n",
       "      <td>37</td>\n",
       "      <td>7338</td>\n",
       "      <td>2602</td>\n",
       "      <td>...</td>\n",
       "      <td>couponifier</td>\n",
       "      <td>228</td>\n",
       "      <td>7338</td>\n",
       "      <td>7189</td>\n",
       "      <td>https://youtu.be/SDT2jLzFAxE</td>\n",
       "      <td>8</td>\n",
       "      <td>7338</td>\n",
       "      <td>7154</td>\n",
       "      <td>“Axial Precession”</td>\n",
       "      <td>10</td>\n",
       "    </tr>\n",
       "    <tr>\n",
       "      <th>1</th>\n",
       "      <td>2578</td>\n",
       "      <td>1986</td>\n",
       "      <td>Kate &lt;3 FREE ALBUM with videos and pics =&gt; jus...</td>\n",
       "      <td>27</td>\n",
       "      <td>2578</td>\n",
       "      <td>1057</td>\n",
       "      <td>1600304241.0</td>\n",
       "      <td>7</td>\n",
       "      <td>2578</td>\n",
       "      <td>226</td>\n",
       "      <td>...</td>\n",
       "      <td>ashleywhite55</td>\n",
       "      <td>162</td>\n",
       "      <td>2578</td>\n",
       "      <td>2234</td>\n",
       "      <td>https://redgifs.com/watch/leafyimprobableameri...</td>\n",
       "      <td>18</td>\n",
       "      <td>2578</td>\n",
       "      <td>1990</td>\n",
       "      <td>Kate &lt;3 FREE ALBUM with videos and pics =&gt; jus...</td>\n",
       "      <td>27</td>\n",
       "    </tr>\n",
       "  </tbody>\n",
       "</table>\n",
       "<p>2 rows × 44 columns</p>\n",
       "</div>"
      ],
      "text/plain": [
       "     title                                                                 \\\n",
       "     count unique                                                top freq   \n",
       "nsfw                                                                        \n",
       "0     7338   7134                                 “Axial Precession”   10   \n",
       "1     2578   1986  Kate <3 FREE ALBUM with videos and pics => jus...   27   \n",
       "\n",
       "      time                           description         ...       redditor  \\\n",
       "     count unique           top freq       count unique  ...            top   \n",
       "nsfw                                                     ...                  \n",
       "0     7338   1240  1600303906.0   37        7338   2602  ...    couponifier   \n",
       "1     2578   1057  1600304241.0    7        2578    226  ...  ashleywhite55   \n",
       "\n",
       "            url                                                            \\\n",
       "     freq count unique                                                top   \n",
       "nsfw                                                                        \n",
       "0     228  7338   7189                       https://youtu.be/SDT2jLzFAxE   \n",
       "1     162  2578   2234  https://redgifs.com/watch/leafyimprobableameri...   \n",
       "\n",
       "          all_text                                                            \\\n",
       "     freq    count unique                                                top   \n",
       "nsfw                                                                           \n",
       "0       8     7338   7154                                “Axial Precession”    \n",
       "1      18     2578   1990  Kate <3 FREE ALBUM with videos and pics => jus...   \n",
       "\n",
       "           \n",
       "     freq  \n",
       "nsfw       \n",
       "0      10  \n",
       "1      27  \n",
       "\n",
       "[2 rows x 44 columns]"
      ]
     },
     "execution_count": 310,
     "metadata": {},
     "output_type": "execute_result"
    }
   ],
   "source": [
    "df.groupby(['nsfw']).describe()"
   ]
  },
  {
   "cell_type": "markdown",
   "metadata": {},
   "source": [
    "# Clean Data\n"
   ]
  },
  {
   "cell_type": "code",
   "execution_count": 311,
   "metadata": {},
   "outputs": [
    {
     "data": {
      "text/plain": [
       "0    [flex, fans, how, do, you, feel, about, the, n...\n",
       "1    [for, hire, 3d, characters, and, low, poly, st...\n",
       "2                                      [lily, collins]\n",
       "3                             [the, office, go, brrrr]\n",
       "4                 [am, i, curvy, enough, for, you, oc]\n",
       "Name: all_text, dtype: object"
      ]
     },
     "execution_count": 311,
     "metadata": {},
     "output_type": "execute_result"
    }
   ],
   "source": [
    "#Remove punctuacion and special characters based on pattern using RegEx\n",
    "\n",
    "#remove punctuation and special characters\n",
    "tokenizer = RegexpTokenizer(r'\\w+')\n",
    "\n",
    "\n",
    "df['all_text'] = df['all_text'].apply(lambda  x: tokenizer.tokenize(x.lower()))\n",
    "\n",
    "df[\"all_text\"].head()"
   ]
  },
  {
   "cell_type": "markdown",
   "metadata": {},
   "source": [
    "# Remove Stop Words\n"
   ]
  },
  {
   "cell_type": "code",
   "execution_count": 312,
   "metadata": {},
   "outputs": [],
   "source": [
    "def remove_stopwords(text):\n",
    "    words = [w for w in text if w not in stopwords.words('english')]\n",
    "    return words"
   ]
  },
  {
   "cell_type": "code",
   "execution_count": 313,
   "metadata": {},
   "outputs": [],
   "source": [
    "df['all_text'] = df['all_text'].apply(lambda  x: remove_stopwords(x))"
   ]
  },
  {
   "cell_type": "markdown",
   "metadata": {},
   "source": [
    "# Stemming & Lemmatizing"
   ]
  },
  {
   "cell_type": "code",
   "execution_count": 314,
   "metadata": {},
   "outputs": [],
   "source": [
    "lemmatizer = WordNetLemmatizer()\n",
    "\n",
    "def word_lemmatizer(text):\n",
    "    lem = \" \".join([lemmatizer.lemmatize(i) for i in text])\n",
    "    return lem\n",
    "\n",
    "stemmer = PorterStemmer()\n",
    "\n",
    "def word_stemmer(text):\n",
    "    stem = \" \".join([stemmer.stem(i) for i in text])\n",
    "    return stem"
   ]
  },
  {
   "cell_type": "code",
   "execution_count": 315,
   "metadata": {},
   "outputs": [
    {
     "name": "stdout",
     "output_type": "stream",
     "text": [
      "0        flex fan feel newest addit flex seal famili pr...\n",
      "1        hire 3d charact low poli style start 60 dm int...\n",
      "2                                              lili collin\n",
      "3                                           offic go brrrr\n",
      "4                                          curvi enough oc\n",
      "                               ...                        \n",
      "10096    naughti girl punish mistress made make free to...\n",
      "10097    lost tome silver unfad flower megathread septe...\n",
      "10098                       virgin peni ach pussi 7 5 inch\n",
      "10099                                       2012 flashback\n",
      "10100                                      stop meme queem\n",
      "Name: all_text_s, Length: 9916, dtype: object\n"
     ]
    }
   ],
   "source": [
    "df['all_text_l'] = df['all_text'].apply(lambda  x: word_lemmatizer(x))\n",
    "df['all_text_s'] = df['all_text'].apply(lambda  x: word_stemmer(x))\n",
    "\n",
    "print(df['all_text_s'])"
   ]
  },
  {
   "cell_type": "markdown",
   "metadata": {},
   "source": [
    "# Word Cloud Visualization"
   ]
  },
  {
   "cell_type": "code",
   "execution_count": 316,
   "metadata": {},
   "outputs": [],
   "source": [
    "df_sfw = df[df.nsfw==0]\n",
    "df_nsfw = df[df.nsfw==1]\n",
    "\n",
    "def create_word_cloud(df):\n",
    "    \"\"\"\n",
    "        Word cloud requires input of string\n",
    "    \"\"\"\n",
    "    df_list = df['all_text_l'].tolist()\n",
    "    df_string = (\"\").join(df_list)\n",
    "    \n",
    "    wordcloud = WordCloud(max_font_size = 50, max_words=50, margin=0, background_color = \"white\", colormap=\"Reds\").generate(df_string)\n",
    "\n",
    "    plt.figure()\n",
    "    plt.imshow(wordcloud, interpolation='bilinear')\n",
    "    plt.axis(\"off\")\n",
    "    plt.margins(x=0, y=0)\n",
    "    plt.show()\n",
    "    \n"
   ]
  },
  {
   "cell_type": "markdown",
   "metadata": {},
   "source": [
    "Word Cloud - nsfw"
   ]
  },
  {
   "cell_type": "code",
   "execution_count": 317,
   "metadata": {},
   "outputs": [
    {
     "data": {
      "image/png": "[encoded data removed]",
      "text/plain": [
       "<Figure size 432x288 with 1 Axes>"
      ]
     },
     "metadata": {
      "needs_background": "light"
     },
     "output_type": "display_data"
    }
   ],
   "source": [
    "create_word_cloud(df_nsfw)"
   ]
  },
  {
   "cell_type": "markdown",
   "metadata": {},
   "source": [
    "Word Cloud - sfw"
   ]
  },
  {
   "cell_type": "code",
   "execution_count": 318,
   "metadata": {},
   "outputs": [
    {
     "data": {
      "image/png": "[encoded data removed]",
      "text/plain": [
       "<Figure size 432x288 with 1 Axes>"
      ]
     },
     "metadata": {
      "needs_background": "light"
     },
     "output_type": "display_data"
    }
   ],
   "source": [
    "create_word_cloud(df_sfw)"
   ]
  },
  {
   "cell_type": "markdown",
   "metadata": {},
   "source": [
    "# Handle imbalanced datasets"
   ]
  },
  {
   "cell_type": "code",
   "execution_count": 319,
   "metadata": {},
   "outputs": [
    {
     "data": {
      "text/plain": [
       "0    7338\n",
       "1    2578\n",
       "Name: nsfw, dtype: int64"
      ]
     },
     "execution_count": 319,
     "metadata": {},
     "output_type": "execute_result"
    }
   ],
   "source": [
    "n_samples_nsfw = len(df_nsfw)\n",
    "df[\"nsfw\"].value_counts()\n"
   ]
  },
  {
   "cell_type": "code",
   "execution_count": 320,
   "metadata": {},
   "outputs": [
    {
     "data": {
      "text/plain": [
       "1    2578\n",
       "0    2578\n",
       "Name: nsfw, dtype: int64"
      ]
     },
     "execution_count": 320,
     "metadata": {},
     "output_type": "execute_result"
    }
   ],
   "source": [
    "# Down-sample Majority Class\n",
    "\n",
    "df_sfw_downsampled = resample(df_sfw, \n",
    "                                 replace=False,    # sample without replacement\n",
    "                                 n_samples=n_samples_nsfw,     # to match minority class\n",
    "                                 random_state=0)\n",
    "\n",
    "df_downsampled = pd.concat([df_sfw_downsampled, df_nsfw])\n",
    "df_downsampled.nsfw.value_counts()"
   ]
  },
  {
   "cell_type": "markdown",
   "metadata": {},
   "source": [
    "# Split train and test data"
   ]
  },
  {
   "cell_type": "code",
   "execution_count": 321,
   "metadata": {},
   "outputs": [
    {
     "name": "stdout",
     "output_type": "stream",
     "text": [
      "(4124,) (4124,)\n",
      "(1032,) (1032,)\n"
     ]
    }
   ],
   "source": [
    "#define target var\n",
    "y=df_downsampled['nsfw']\n",
    "\n",
    "X_train, X_test, y_train, y_test = train_test_split(df_downsampled['all_text_l'], y, test_size=0.2, random_state=0)\n",
    "print(X_train.shape, y_train.shape)\n",
    "print(X_test.shape, y_test.shape)"
   ]
  },
  {
   "cell_type": "markdown",
   "metadata": {},
   "source": [
    "# Tf-IDF Vectorizer"
   ]
  },
  {
   "cell_type": "code",
   "execution_count": 322,
   "metadata": {},
   "outputs": [],
   "source": [
    "#Naives bayes requires Tf-IDF vectors\n",
    "\n",
    "x_lst = X_train.tolist()\n",
    "y_lst = y_test.tolist()\n",
    "vectorizer = TfidfVectorizer()\n",
    "vetor_train_transformed = vectorizer.fit_transform(x_lst) #gives tf idf vector for x_train\n",
    "vetor_test_transformed  = vectorizer.transform(X_test) #gives tf idf vector for x_test"
   ]
  },
  {
   "cell_type": "markdown",
   "metadata": {},
   "source": [
    "# Fit/Train Model"
   ]
  },
  {
   "cell_type": "markdown",
   "metadata": {},
   "source": [
    "## Naives Bayes"
   ]
  },
  {
   "cell_type": "code",
   "execution_count": 323,
   "metadata": {},
   "outputs": [
    {
     "data": {
      "text/plain": [
       "MultinomialNB()"
      ]
     },
     "execution_count": 323,
     "metadata": {},
     "output_type": "execute_result"
    }
   ],
   "source": [
    "model = MultinomialNB()\n",
    "model.fit(vetor_train_transformed, y_train)"
   ]
  },
  {
   "cell_type": "code",
   "execution_count": 324,
   "metadata": {},
   "outputs": [],
   "source": [
    "pred = model.predict(vetor_test_transformed)"
   ]
  },
  {
   "cell_type": "code",
   "execution_count": 325,
   "metadata": {},
   "outputs": [],
   "source": [
    "def validation(y_lst,pred):\n",
    "    matrix = confusion_matrix(y_lst, pred)\n",
    "    print('Confusion Matrix :')\n",
    "    sns.heatmap(matrix, annot=True)\n",
    "    print ('Accuracy Score :',accuracy_score(y_lst, pred))\n",
    "    print ('Report : ')\n",
    "    print (classification_report(y_lst, pred) )\n",
    "    score_2 = f1_score(y_lst, pred, average = 'binary')\n",
    "    print('F-Measure: %.3f' % score_2)"
   ]
  },
  {
   "cell_type": "code",
   "execution_count": 326,
   "metadata": {},
   "outputs": [
    {
     "name": "stdout",
     "output_type": "stream",
     "text": [
      "Confusion Matrix :\n",
      "Accuracy Score : 0.8546511627906976\n",
      "Report : \n",
      "              precision    recall  f1-score   support\n",
      "\n",
      "           0       0.87      0.84      0.85       518\n",
      "           1       0.84      0.87      0.86       514\n",
      "\n",
      "    accuracy                           0.85      1032\n",
      "   macro avg       0.85      0.85      0.85      1032\n",
      "weighted avg       0.86      0.85      0.85      1032\n",
      "\n",
      "F-Measure: 0.856\n"
     ]
    },
    {
     "data": {
      "image/png": "[encoded data removed]",
      "text/plain": [
       "<Figure size 432x288 with 2 Axes>"
      ]
     },
     "metadata": {
      "needs_background": "light"
     },
     "output_type": "display_data"
    }
   ],
   "source": [
    "validation(y_lst,pred)"
   ]
  },
  {
   "cell_type": "code",
   "execution_count": null,
   "metadata": {},
   "outputs": [],
   "source": []
  }
 ],
 "metadata": {
  "kernelspec": {
   "display_name": "Python 3",
   "language": "python",
   "name": "python3"
  },
  "language_info": {
   "codemirror_mode": {
    "name": "ipython",
    "version": 3
   },
   "file_extension": ".py",
   "mimetype": "text/x-python",
   "name": "python",
   "nbconvert_exporter": "python",
   "pygments_lexer": "ipython3",
   "version": "3.8.3"
  }
 },
 "nbformat": 4,
 "nbformat_minor": 4
}
